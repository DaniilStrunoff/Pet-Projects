{
 "cells": [
  {
   "cell_type": "code",
   "execution_count": 225,
   "metadata": {},
   "outputs": [],
   "source": [
    "import numpy as np\n",
    "import scipy\n",
    "from scipy.special import expit"
   ]
  },
  {
   "cell_type": "code",
   "execution_count": 333,
   "metadata": {},
   "outputs": [],
   "source": [
    "class BaseSmoothOracle:\n",
    "    \"\"\"\n",
    "    Базовый класс для реализации оракулов.\n",
    "    \"\"\"\n",
    "    def func(self, w):\n",
    "        \"\"\"\n",
    "        Вычислить значение функции в точке w.\n",
    "        \"\"\"\n",
    "        return lambda X, y: expit(y * X.dot(w))\n",
    "\n",
    "    def grad(self, w):\n",
    "        \"\"\"\n",
    "        Вычислить значение градиента функции в точке w.\n",
    "        \"\"\"\n",
    "        return lambda X, y: expit(y * X.dot(w))\n"
   ]
  },
  {
   "cell_type": "code",
   "execution_count": 610,
   "metadata": {},
   "outputs": [],
   "source": [
    "class BinaryLogistic(BaseSmoothOracle):\n",
    "    \"\"\"\n",
    "    Оракул для задачи двухклассовой логистической регрессии.\n",
    "    \n",
    "    Оракул должен поддерживать l2 регуляризацию.\n",
    "    \"\"\"\n",
    "    \n",
    "    def __init__(self, l2_coef):\n",
    "        \"\"\"\n",
    "        Задание параметров оракула.\n",
    "        \n",
    "        l2_coef - коэффициент l2 регуляризации\n",
    "        \"\"\"\n",
    "        self.l2_coef = l2_coef\n",
    "     \n",
    "    def func(self, X, y, w):\n",
    "        \"\"\"\n",
    "        Вычислить значение функционала в точке w на выборке X с ответами y.\n",
    "        \n",
    "        X - scipy.sparse.csr_matrix или двумерный numpy.array\n",
    "        \n",
    "        y - одномерный numpy array\n",
    "        \n",
    "        w - одномерный numpy array\n",
    "        \"\"\"\n",
    "        act_func = super().func(w)\n",
    "        \n",
    "        return - np.log(act_func(X, y)).mean() + \\\n",
    "                 self.l2_coef*(w.dot(w)) / 2\n",
    "\n",
    "        \n",
    "    def grad(self, X, y, w):\n",
    "        \"\"\"\n",
    "        Вычислить градиент функционала в точке w на выборке X с ответами y.\n",
    "        \n",
    "        X - scipy.sparse.csr_matrix или двумерный numpy.array\n",
    "        \n",
    "        y - одномерный numpy array\n",
    "        \n",
    "        w - одномерный numpy array\n",
    "        \"\"\"\n",
    "        grad_func = super().grad(w)\n",
    "        \n",
    "        return (-(X.transpose()).multiply((1 - grad_func(X, y)))).dot(y) / y.shape[0] + self.l2_coef * w\n",
    "        "
   ]
  }
 ],
 "metadata": {
  "kernelspec": {
   "display_name": "Python 3",
   "language": "python",
   "name": "python3"
  },
  "language_info": {
   "codemirror_mode": {
    "name": "ipython",
    "version": 3
   },
   "file_extension": ".py",
   "mimetype": "text/x-python",
   "name": "python",
   "nbconvert_exporter": "python",
   "pygments_lexer": "ipython3",
   "version": "3.6.8"
  }
 },
 "nbformat": 4,
 "nbformat_minor": 2
}
