{
 "cells": [
  {
   "cell_type": "markdown",
   "metadata": {},
   "source": [
    "Реализуем класс KNNClassifier."
   ]
  },
  {
   "cell_type": "code",
   "execution_count": 407,
   "metadata": {},
   "outputs": [],
   "source": [
    "import numpy as np\n",
    "import sklearn\n",
    "from sklearn import datasets \n",
    "from sklearn.neighbors import NearestNeighbors\n",
    "EPS = 1e-5\n",
    "\n",
    "\n",
    "class KNNClassifier:\n",
    "    def __init__(self, k, strategy, metric, weights, test_block_size):\n",
    "        self.k = k\n",
    "        self.strategy = strategy\n",
    "        self.metric = metric\n",
    "        self.weights = weights\n",
    "        self.test_block_size = test_block_size\n",
    "    \n",
    "    def fit(self, X_train, y_train):\n",
    "        if self.strategy==\"brute\" or self.strategy==\"ball_tree\" or self.strategy==\"kd_tree\":\n",
    "            model = NearestNeighbors(self.k, algorithm = self.strategy, metric = self.metric)\n",
    "        else:\n",
    "            self.y_train = y_train\n",
    "            self.X_train = X_train\n",
    "            return\n",
    "        \n",
    "        self.nbrs = model.fit(X_train, y_train)\n",
    "        self.y_train = y_train\n",
    "        return\n",
    "    \n",
    "    def find_kneighbors(self, X_test, return_distance):\n",
    "        if self.strategy==\"brute\" or self.strategy==\"ball_tree\" or self.strategy==\"kd_tree\":\n",
    "            self.distances, self.indeces = self.nbrs.kneighbors(X_test)\n",
    "        else:\n",
    "            if self.metric == 'euclidean':\n",
    "                distances = euclidean_distance(X_test, self.X_train)\n",
    "            elif self.metric == 'cosine':\n",
    "                distances = cosine_distance(X_test, self.X_train)\n",
    "            indeces = np.argpartition(distances, self.k, axis = 1)\n",
    "            distances = np.take_along_axis(distances, indeces, axis = 1)\n",
    "            distances = np.delete(distances, np.s_[self.k:], axis=1)\n",
    "            indeces = np.delete(indeces, np.s_[self.k:], axis=1)\n",
    "            ind = np.argsort(distances, axis=1)\n",
    "            self.distances = np.take_along_axis(distances, ind, axis=1)\n",
    "            self.indeces = np.take_along_axis(indeces, ind, axis=1)\n",
    "            if(return_distance):\n",
    "                return self.distances, self.indeces\n",
    "            else:\n",
    "                return self.indeces\n",
    "            \n",
    "        if(return_distance):\n",
    "            return self.distances, self.indeces\n",
    "        else:\n",
    "            return self.indeces\n",
    "    \n",
    "    def predict(self, X_test):\n",
    "        #_, self.indeces = self.nbrs.kneighbors(X_test)\n",
    "        if(self.weights == False):\n",
    "            self.indeces = self.find_kneighbors(X_test, False)\n",
    "        else:\n",
    "            self.distances, self.indeces = self.find_kneighbors(X_test, True)\n",
    "        y_t = []\n",
    "        C = [0]*len(np.unique(self.y_train))\n",
    "        for i in range(X_test.shape[0]):\n",
    "            C = [0]*len(np.unique(self.y_train))\n",
    "            for j in range(self.k):\n",
    "                if(self.weights):\n",
    "                    C[int(self.y_train[self.indeces[i][j]])] += (1/(self.distances[i][j]+EPS))\n",
    "                else:\n",
    "                    C[int(self.y_train[self.indeces[i][j]])] += 1\n",
    "            y_t.append(np.where(C == np.amax(C))[0][0])\n",
    "        y_t = np.array(y_t)\n",
    "        return y_t"
   ]
  },
  {
   "cell_type": "markdown",
   "metadata": {},
   "source": [
    "Напишем подсчет метрик."
   ]
  },
  {
   "cell_type": "code",
   "execution_count": 220,
   "metadata": {},
   "outputs": [],
   "source": [
    "def euclidean_distance(x, y):\n",
    "    x_sqr_norms = np.array([np.sum(x * x, axis=1)])\n",
    "    y_sqr_norms = np.array([np.sum(y * y, axis=1)])\n",
    "    x_y_dot_products = x @ y.T\n",
    "    dist = x_sqr_norms.T - 2 * x_y_dot_products + y_sqr_norms\n",
    "    return np.sqrt(dist)\n",
    "def cosine_distance(x, y):\n",
    "    x_sqr_norms = np.array([np.linalg.norm(x, axis=1)])\n",
    "    y_sqr_norms = np.array([np.linalg.norm(y, axis=1)])\n",
    "    x_y_dot_products = x.dot(y.T)\n",
    "    \n",
    "    cos_dist = x_y_dot_products / x_sqr_norms.T /y_sqr_norms\n",
    "    return 1 - cos_dist"
   ]
  },
  {
   "cell_type": "markdown",
   "metadata": {},
   "source": [
    "Скачаем датасет."
   ]
  },
  {
   "cell_type": "code",
   "execution_count": 2,
   "metadata": {},
   "outputs": [],
   "source": [
    "X, y = datasets.fetch_openml('mnist_784', version=1, return_X_y=True)"
   ]
  },
  {
   "cell_type": "code",
   "execution_count": 365,
   "metadata": {},
   "outputs": [],
   "source": [
    "y = y.astype(int)"
   ]
  },
  {
   "cell_type": "markdown",
   "metadata": {},
   "source": [
    "Проверим работу класса KNNClassifier."
   ]
  },
  {
   "cell_type": "code",
   "execution_count": 408,
   "metadata": {},
   "outputs": [],
   "source": [
    "clf = KNNClassifier(12, \"my_own\", \"euclidean\", True, 100)"
   ]
  },
  {
   "cell_type": "code",
   "execution_count": 409,
   "metadata": {},
   "outputs": [
    {
     "data": {
      "text/plain": [
       "array([3, 5, 3, 6, 1, 7, 7, 8, 6, 9], dtype=int64)"
      ]
     },
     "execution_count": 409,
     "metadata": {},
     "output_type": "execute_result"
    }
   ],
   "source": [
    "clf.fit(X[20:1000],y[20:1000])\n",
    "clf.predict(X[10:20])"
   ]
  },
  {
   "cell_type": "code",
   "execution_count": 7,
   "metadata": {},
   "outputs": [],
   "source": [
    "import matplotlib.pyplot as plt"
   ]
  },
  {
   "cell_type": "code",
   "execution_count": 411,
   "metadata": {},
   "outputs": [
    {
     "data": {
      "text/plain": [
       "<matplotlib.image.AxesImage at 0x2984b39fc88>"
      ]
     },
     "execution_count": 411,
     "metadata": {},
     "output_type": "execute_result"
    },
    {
     "data": {
      "image/png": "[encoded data removed]",
      "text/plain": [
       "<Figure size 432x288 with 1 Axes>"
      ]
     },
     "metadata": {
      "needs_background": "light"
     },
     "output_type": "display_data"
    }
   ],
   "source": [
    "plt.imshow(X[10:20][0].reshape(28,28))"
   ]
  },
  {
   "cell_type": "markdown",
   "metadata": {},
   "source": [
    "Алгоритм выдает адекватные результаты. "
   ]
  },
  {
   "cell_type": "markdown",
   "metadata": {},
   "source": [
    "Напишем метрику accuracy."
   ]
  },
  {
   "cell_type": "code",
   "execution_count": 176,
   "metadata": {},
   "outputs": [],
   "source": [
    "def accuracy(Y,y):\n",
    "    return (np.where(Y.astype(int) == y.astype(int))[0].shape[0])/float(len(y))"
   ]
  },
  {
   "cell_type": "markdown",
   "metadata": {},
   "source": [
    "Реализуем кросс-валидацию."
   ]
  },
  {
   "cell_type": "code",
   "execution_count": 217,
   "metadata": {},
   "outputs": [],
   "source": [
    "from sklearn.model_selection import KFold\n",
    "\n",
    "def knn_cross_val_score(X, y, k_list, score, cv=None, **kwargs):\n",
    "    scores_dict = {}\n",
    "    \n",
    "    if cv == None:\n",
    "        folds = KFold(n_splits=3)\n",
    "        for k in k_list:\n",
    "            a = KNNClassifier(k, **kwargs)\n",
    "            scores_list = []\n",
    "            for train_index, test_index in folds.split(X):\n",
    "                a.fit(X[train_index],y[train_index])\n",
    "                Y = a.predict(X[test_index])\n",
    "                score = accuracy(Y,y[test_index])\n",
    "                scores_list.append(score)\n",
    "            scores_dict[f\"{k}\"] = scores_list\n",
    "        return scores_dict\n",
    "              \n",
    "    \n",
    "    for k in k_list:\n",
    "        a = KNNClassifier(k, **kwargs)\n",
    "        scores_list = []\n",
    "        for i in cv:\n",
    "            a.fit(X[i[0]],y[i[0]])\n",
    "            Y = a.predict(X[i[1]])\n",
    "            score = accuracy(Y,y[i[1]])\n",
    "            scores_list.append(score)\n",
    "        scores_dict[f\"{k}\"] = scores_list\n",
    "    return scores_dict"
   ]
  },
  {
   "cell_type": "code",
   "execution_count": 243,
   "metadata": {},
   "outputs": [],
   "source": [
    "cv = np.array([(np.array(list(range(1600))), np.array(list(range(1600,2000)))), \n",
    "               (np.array(list(range(1200))+list(range(1600,2000))), np.array(list(range(1200, 1600)))),\n",
    "               (np.array(list(range(800))+list(range(1200,2000))), np.array(list(range(800, 1200))))])"
   ]
  },
  {
   "cell_type": "code",
   "execution_count": 229,
   "metadata": {},
   "outputs": [],
   "source": [
    "import time as t"
   ]
  },
  {
   "cell_type": "markdown",
   "metadata": {},
   "source": [
    "Найдем с помощью кросс-валидации значения гиперпараметров и оценим время работы. Выведем для каждого значения гиперпараметров результаты на кросс-валидации:"
   ]
  },
  {
   "cell_type": "code",
   "execution_count": 265,
   "metadata": {},
   "outputs": [],
   "source": [
    "times_euclidean = []\n",
    "cross_val_scores_euclidean = []\n",
    "for k in range(1,11):  \n",
    "    time = t.time()\n",
    "    cross_val_scores_euclidean.append(knn_cross_val_score(X[0:2000], y[0:2000], [k], accuracy,\n",
    "                    cv=None, **{\"strategy\": \"My_own\", \"metric\": \"euclidean\", \"weights\": False, \"test_block_size\": 100}))\n",
    "    times_euclidean.append(t.time()- time)"
   ]
  },
  {
   "cell_type": "code",
   "execution_count": 266,
   "metadata": {},
   "outputs": [
    {
     "data": {
      "text/plain": [
       "[{'1': [0.8905547226386806, 0.8755622188905547, 0.8993993993993994]},\n",
       " {'2': [0.8725637181409296, 0.8575712143928036, 0.8723723723723724]},\n",
       " {'3': [0.881559220389805, 0.8650674662668666, 0.8888888888888888]},\n",
       " {'4': [0.881559220389805, 0.8740629685157422, 0.8813813813813813]},\n",
       " {'5': [0.8830584707646177, 0.8680659670164917, 0.8768768768768769]},\n",
       " {'6': [0.8755622188905547, 0.8545727136431784, 0.8663663663663663]},\n",
       " {'7': [0.8740629685157422, 0.8575712143928036, 0.8738738738738738]},\n",
       " {'8': [0.8680659670164917, 0.8500749625187406, 0.8798798798798799]},\n",
       " {'9': [0.8650674662668666, 0.848575712143928, 0.8753753753753754]},\n",
       " {'10': [0.8605697151424287, 0.8380809595202399, 0.8693693693693694]}]"
      ]
     },
     "execution_count": 266,
     "metadata": {},
     "output_type": "execute_result"
    }
   ],
   "source": [
    "cross_val_scores_euclidean"
   ]
  },
  {
   "cell_type": "code",
   "execution_count": 267,
   "metadata": {},
   "outputs": [
    {
     "data": {
      "text/plain": [
       "[3.7250354290008545,\n",
       " 3.8786277770996094,\n",
       " 3.486677408218384,\n",
       " 3.377964973449707,\n",
       " 3.4772591590881348,\n",
       " 3.3360772132873535,\n",
       " 3.372981548309326,\n",
       " 3.348045587539673,\n",
       " 3.2892041206359863,\n",
       " 3.5923941135406494]"
      ]
     },
     "execution_count": 267,
     "metadata": {},
     "output_type": "execute_result"
    }
   ],
   "source": [
    "times_euclidean"
   ]
  },
  {
   "cell_type": "code",
   "execution_count": 268,
   "metadata": {},
   "outputs": [],
   "source": [
    "times_cosine = []\n",
    "cross_val_scores_cosine = []\n",
    "for k in range(1,11):  \n",
    "    time = t.time()\n",
    "    cross_val_scores_cosine.append(knn_cross_val_score(X[0:2000], y[0:2000], [k], accuracy,\n",
    "                    cv=None, **{\"strategy\": \"My_own\", \"metric\": \"cosine\", \"weights\": False, \"test_block_size\": 100}))\n",
    "    times_cosine.append(t.time()- time)"
   ]
  },
  {
   "cell_type": "code",
   "execution_count": 269,
   "metadata": {},
   "outputs": [
    {
     "data": {
      "text/plain": [
       "[{'1': [0.904047976011994, 0.8935532233883059, 0.924924924924925]},\n",
       " {'2': [0.8980509745127436, 0.8710644677661169, 0.9024024024024024]},\n",
       " {'3': [0.9070464767616192, 0.8830584707646177, 0.9054054054054054]},\n",
       " {'4': [0.9055472263868066, 0.881559220389805, 0.9039039039039038]},\n",
       " {'5': [0.9115442278860569, 0.8740629685157422, 0.8978978978978979]},\n",
       " {'6': [0.9100449775112444, 0.881559220389805, 0.9024024024024024]},\n",
       " {'7': [0.8995502248875562, 0.8785607196401799, 0.9009009009009009]},\n",
       " {'8': [0.8935532233883059, 0.8755622188905547, 0.9024024024024024]},\n",
       " {'9': [0.8935532233883059, 0.8800599700149925, 0.8978978978978979]},\n",
       " {'10': [0.8920539730134932, 0.8695652173913043, 0.9009009009009009]}]"
      ]
     },
     "execution_count": 269,
     "metadata": {},
     "output_type": "execute_result"
    }
   ],
   "source": [
    "cross_val_scores_cosine"
   ]
  },
  {
   "cell_type": "code",
   "execution_count": 270,
   "metadata": {},
   "outputs": [
    {
     "data": {
      "text/plain": [
       "[3.786388397216797,\n",
       " 3.3041634559631348,\n",
       " 3.429830551147461,\n",
       " 3.1944546699523926,\n",
       " 3.2782671451568604,\n",
       " 3.3420307636260986,\n",
       " 3.2692575454711914,\n",
       " 3.246316909790039,\n",
       " 3.1914660930633545,\n",
       " 3.1535661220550537]"
      ]
     },
     "execution_count": 270,
     "metadata": {},
     "output_type": "execute_result"
    }
   ],
   "source": [
    "times_cosine"
   ]
  },
  {
   "cell_type": "code",
   "execution_count": 271,
   "metadata": {},
   "outputs": [
    {
     "name": "stderr",
     "output_type": "stream",
     "text": [
      "D:\\Conda\\envs\\venv\\lib\\site-packages\\ipykernel_launcher.py:6: DeprecationWarning: elementwise comparison failed; this will raise an error in the future.\n",
      "  \n"
     ]
    }
   ],
   "source": [
    "times_weights_False = []\n",
    "cross_val_scores_weights_False = []\n",
    "for k in range(1,11):  \n",
    "    time = t.time()\n",
    "    cross_val_scores_weights_False.append(knn_cross_val_score(X[0:2000], y[0:2000], [k], accuracy,\n",
    "                    cv=cv, **{\"strategy\": \"My_own\", \"metric\": \"cosine\", \"weights\": False, \"test_block_size\": 100}))\n",
    "    times_weights_False.append(t.time()- time)"
   ]
  },
  {
   "cell_type": "code",
   "execution_count": 272,
   "metadata": {},
   "outputs": [
    {
     "data": {
      "text/plain": [
       "[{'1': [0.9325, 0.91, 0.9075]},\n",
       " {'2': [0.9125, 0.8975, 0.9025]},\n",
       " {'3': [0.91, 0.9175, 0.905]},\n",
       " {'4': [0.91, 0.925, 0.905]},\n",
       " {'5': [0.9025, 0.92, 0.905]},\n",
       " {'6': [0.9, 0.9175, 0.91]},\n",
       " {'7': [0.9025, 0.91, 0.905]},\n",
       " {'8': [0.895, 0.915, 0.9025]},\n",
       " {'9': [0.9, 0.915, 0.89]},\n",
       " {'10': [0.8975, 0.92, 0.9]}]"
      ]
     },
     "execution_count": 272,
     "metadata": {},
     "output_type": "execute_result"
    }
   ],
   "source": [
    "cross_val_scores_weights_False"
   ]
  },
  {
   "cell_type": "code",
   "execution_count": 273,
   "metadata": {},
   "outputs": [
    {
     "data": {
      "text/plain": [
       "[2.706763982772827,\n",
       " 2.462411642074585,\n",
       " 2.514277458190918,\n",
       " 2.5362205505371094,\n",
       " 2.4803688526153564,\n",
       " 2.4794046878814697,\n",
       " 2.4206464290618896,\n",
       " 2.3916027545928955,\n",
       " 2.459529399871826,\n",
       " 2.4314985275268555]"
      ]
     },
     "execution_count": 273,
     "metadata": {},
     "output_type": "execute_result"
    }
   ],
   "source": [
    "times_weights_False"
   ]
  },
  {
   "cell_type": "code",
   "execution_count": 274,
   "metadata": {},
   "outputs": [
    {
     "name": "stderr",
     "output_type": "stream",
     "text": [
      "D:\\Conda\\envs\\venv\\lib\\site-packages\\ipykernel_launcher.py:6: DeprecationWarning: elementwise comparison failed; this will raise an error in the future.\n",
      "  \n"
     ]
    }
   ],
   "source": [
    "times_weights_True = []\n",
    "cross_val_scores_weights_True = []\n",
    "for k in range(1,11):\n",
    "    time = t.time()\n",
    "    cross_val_scores_weights_True.append(knn_cross_val_score(X[0:2000], y[0:2000], [k], accuracy,\n",
    "                    cv=cv, **{\"strategy\": \"My_own\", \"metric\": \"cosine\", \"weights\": True, \"test_block_size\": 100}))\n",
    "    times_weights_True.append(t.time()- time)"
   ]
  },
  {
   "cell_type": "code",
   "execution_count": 275,
   "metadata": {},
   "outputs": [
    {
     "data": {
      "text/plain": [
       "[{'1': [0.9325, 0.91, 0.9075]},\n",
       " {'2': [0.9325, 0.91, 0.9075]},\n",
       " {'3': [0.9225, 0.93, 0.9125]},\n",
       " {'4': [0.92, 0.935, 0.915]},\n",
       " {'5': [0.9075, 0.92, 0.9125]},\n",
       " {'6': [0.915, 0.9225, 0.9]},\n",
       " {'7': [0.9125, 0.92, 0.9125]},\n",
       " {'8': [0.9175, 0.92, 0.91]},\n",
       " {'9': [0.91, 0.92, 0.905]},\n",
       " {'10': [0.91, 0.92, 0.8975]}]"
      ]
     },
     "execution_count": 275,
     "metadata": {},
     "output_type": "execute_result"
    }
   ],
   "source": [
    "cross_val_scores_weights_True"
   ]
  },
  {
   "cell_type": "code",
   "execution_count": 276,
   "metadata": {},
   "outputs": [
    {
     "data": {
      "text/plain": [
       "[2.506295919418335,\n",
       " 2.591137170791626,\n",
       " 2.5521748065948486,\n",
       " 2.340742588043213,\n",
       " 2.6409354209899902,\n",
       " 2.34173846244812,\n",
       " 2.3985862731933594,\n",
       " 2.3277747631073,\n",
       " 2.4494502544403076,\n",
       " 2.3706605434417725]"
      ]
     },
     "execution_count": 276,
     "metadata": {},
     "output_type": "execute_result"
    }
   ],
   "source": [
    "times_weights_True"
   ]
  },
  {
   "cell_type": "code",
   "execution_count": 294,
   "metadata": {},
   "outputs": [],
   "source": [
    "cross_val_scores_weights_True_means = []\n",
    "for k in range(10):\n",
    "    mean = np.mean(list(cross_val_scores_weights_True[k].values())[0])\n",
    "    cross_val_scores_weights_True_means.append(mean)"
   ]
  },
  {
   "cell_type": "code",
   "execution_count": 312,
   "metadata": {},
   "outputs": [
    {
     "data": {
      "text/plain": [
       "0.9233333333333333"
      ]
     },
     "execution_count": 312,
     "metadata": {},
     "output_type": "execute_result"
    }
   ],
   "source": [
    "np.max(cross_val_scores_weights_True_means)"
   ]
  },
  {
   "cell_type": "code",
   "execution_count": 299,
   "metadata": {},
   "outputs": [
    {
     "data": {
      "text/plain": [
       "4"
      ]
     },
     "execution_count": 299,
     "metadata": {},
     "output_type": "execute_result"
    }
   ],
   "source": [
    "np.where(cross_val_scores_weights_True_means == np.max(cross_val_scores_weights_True_means))[0][0]+1"
   ]
  },
  {
   "cell_type": "code",
   "execution_count": 301,
   "metadata": {},
   "outputs": [],
   "source": [
    "cross_val_scores_weights_False_means = []\n",
    "for k in range(10):\n",
    "    mean = np.mean(list(cross_val_scores_weights_False[k].values())[0])\n",
    "    cross_val_scores_weights_False_means.append(mean)"
   ]
  },
  {
   "cell_type": "code",
   "execution_count": 313,
   "metadata": {},
   "outputs": [
    {
     "data": {
      "text/plain": [
       "0.9166666666666666"
      ]
     },
     "execution_count": 313,
     "metadata": {},
     "output_type": "execute_result"
    }
   ],
   "source": [
    "np.max(cross_val_scores_weights_False_means)"
   ]
  },
  {
   "cell_type": "code",
   "execution_count": 302,
   "metadata": {},
   "outputs": [
    {
     "data": {
      "text/plain": [
       "1"
      ]
     },
     "execution_count": 302,
     "metadata": {},
     "output_type": "execute_result"
    }
   ],
   "source": [
    "np.where(cross_val_scores_weights_False_means == np.max(cross_val_scores_weights_False_means))[0][0]+1"
   ]
  },
  {
   "cell_type": "markdown",
   "metadata": {},
   "source": [
    "Видно, что лучшими гиперпараметрами для алгоритма являются: k =4, metric = cosine, weghts = True."
   ]
  },
  {
   "cell_type": "code",
   "execution_count": 380,
   "metadata": {},
   "outputs": [],
   "source": [
    "model = KNNClassifier(4, \"My_own\", \"cosine\", True, 100)"
   ]
  },
  {
   "cell_type": "code",
   "execution_count": 381,
   "metadata": {},
   "outputs": [],
   "source": [
    "model.fit(X[:2000],y[:2000])"
   ]
  },
  {
   "cell_type": "code",
   "execution_count": 386,
   "metadata": {},
   "outputs": [],
   "source": [
    "Y = model.predict(X[2000:2500])"
   ]
  },
  {
   "cell_type": "code",
   "execution_count": 387,
   "metadata": {},
   "outputs": [
    {
     "data": {
      "text/plain": [
       "0.934"
      ]
     },
     "execution_count": 387,
     "metadata": {},
     "output_type": "execute_result"
    }
   ],
   "source": [
    "accuracy(y[2000:2500], Y)"
   ]
  },
  {
   "cell_type": "markdown",
   "metadata": {},
   "source": [
    "Результат даже немного лчше, чем на кросс-валидации. Скорее всего, это произошло благодаря увеличению обучающей выборки.\n",
    "Таким образом, размер обучающей выборки имеет большое значение. "
   ]
  },
  {
   "cell_type": "markdown",
   "metadata": {},
   "source": [
    "Отрисуем несколько неправильных результатов."
   ]
  },
  {
   "cell_type": "code",
   "execution_count": 426,
   "metadata": {},
   "outputs": [
    {
     "data": {
      "image/png": "[encoded data removed]",
      "text/plain": [
       "<Figure size 720x720 with 4 Axes>"
      ]
     },
     "metadata": {
      "needs_background": "light"
     },
     "output_type": "display_data"
    }
   ],
   "source": [
    "fig, axs = plt.subplots(2, 2, figsize=(10, 10))\n",
    "\n",
    "for i,j in enumerate(np.where(y[2000:2500] != Y)[0][:4]):\n",
    "    axs[i // 2, i % 2].imshow(X[2000:2500][j].reshape(28,28))"
   ]
  },
  {
   "cell_type": "markdown",
   "metadata": {},
   "source": [
    "Можно видет, что эти цифры, действительно, сильно искажены. "
   ]
  },
  {
   "cell_type": "markdown",
   "metadata": {},
   "source": [
    "Орисуем confusion matrix."
   ]
  },
  {
   "cell_type": "code",
   "execution_count": 396,
   "metadata": {},
   "outputs": [],
   "source": [
    "from sklearn.metrics import confusion_matrix\n",
    "from sklearn.utils.multiclass import unique_labels"
   ]
  },
  {
   "cell_type": "code",
   "execution_count": 401,
   "metadata": {},
   "outputs": [],
   "source": [
    "import itertools\n",
    "\n",
    "def plot_confusion_matrix(cm, classes,\n",
    "                          normalize=False,\n",
    "                          title='Confusion matrix',\n",
    "                          cmap=plt.cm.Blues):\n",
    "    plt.imshow(cm, interpolation='nearest', cmap=cmap)\n",
    "    plt.title(title)\n",
    "    plt.colorbar()\n",
    "    tick_marks = np.arange(len(classes))\n",
    "    plt.xticks(tick_marks, classes, rotation=0)\n",
    "    plt.yticks(tick_marks, classes)\n",
    "\n",
    "    if normalize:\n",
    "        cm = cm.astype('float') / cm.sum(axis=1)[:, np.newaxis]\n",
    "        #print(\"Normalized confusion matrix\")\n",
    "    else:\n",
    "        1#print('Confusion matrix, without normalization')\n",
    "\n",
    "    #print(cm)\n",
    "\n",
    "    thresh = cm.max() / 2.\n",
    "    for i, j in itertools.product(range(cm.shape[0]), range(cm.shape[1])):\n",
    "        plt.text(j, i, cm[i, j],\n",
    "                 horizontalalignment=\"center\",\n",
    "                 color=\"white\" if cm[i, j] > thresh else \"black\")\n",
    "\n",
    "    plt.tight_layout()\n",
    "    plt.ylabel('True label')\n",
    "    plt.xlabel('Predicted label')"
   ]
  },
  {
   "cell_type": "code",
   "execution_count": 405,
   "metadata": {
    "scrolled": true
   },
   "outputs": [
    {
     "data": {
      "image/png": "[encoded data removed]",
      "text/plain": [
       "<Figure size 432x288 with 2 Axes>"
      ]
     },
     "metadata": {
      "needs_background": "light"
     },
     "output_type": "display_data"
    }
   ],
   "source": [
    "cnf_matrix = confusion_matrix(y[2000:2500], Y)\n",
    "np.set_printoptions(precision=2)\n",
    "\n",
    "class_names = list(range(10))\n",
    "plt.figure()\n",
    "plot_confusion_matrix(cnf_matrix\n",
    "                      , classes=class_names\n",
    "                      , title='Confusion matrix')\n",
    "plt.show()"
   ]
  },
  {
   "cell_type": "markdown",
   "metadata": {},
   "source": [
    "По confusion matrix можно заменить, что самой большой трудностью для алгоритма является отделение четверки от девятки. "
   ]
  },
  {
   "cell_type": "code",
   "execution_count": null,
   "metadata": {},
   "outputs": [],
   "source": []
  }
 ],
 "metadata": {
  "kernelspec": {
   "display_name": "Python 3",
   "language": "python",
   "name": "python3"
  },
  "language_info": {
   "codemirror_mode": {
    "name": "ipython",
    "version": 3
   },
   "file_extension": ".py",
   "mimetype": "text/x-python",
   "name": "python",
   "nbconvert_exporter": "python",
   "pygments_lexer": "ipython3",
   "version": "3.6.8"
  }
 },
 "nbformat": 4,
 "nbformat_minor": 2
}
