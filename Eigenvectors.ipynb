{
 "cells": [
  {
   "cell_type": "code",
   "execution_count": 7,
   "metadata": {
    "scrolled": true
   },
   "outputs": [
    {
     "name": "stdout",
     "output_type": "stream",
     "text": [
      "dim = 2: \n",
      "\n",
      "Собственные значения: \n",
      " 3.561553 -0.561553 \n",
      "\n",
      "Собственные векторы матрицы: \n",
      " [[ 0.615412 -0.788205]\n",
      " [ 0.788205  0.615412]] \n",
      "\n",
      "Собственные векторы транспонированной матрицы: \n",
      " [[ 0.615412 -0.788205]\n",
      " [ 0.788205  0.615412]] \n",
      "\n",
      "Проверка перемножением: \n",
      " [[1. 0.]\n",
      " [0. 1.]] \n",
      "\n",
      "dim = 3:\n",
      "\n",
      "Собственные значения: \n",
      " 7.516538 -1.177617 -0.338922 \n",
      "\n",
      "Собственные векторы матрицы: \n",
      " [[ 0.482739 -0.765677  0.42509 ]\n",
      " [ 0.546963 -0.115485 -0.829153]\n",
      " [ 0.683955  0.632774  0.363048]] \n",
      "\n",
      "Собственные векторы транспонированной матрицы: \n",
      " [[ 0.482739 -0.765677  0.42509 ]\n",
      " [ 0.546963 -0.115485 -0.829153]\n",
      " [ 0.683955  0.632774  0.363048]] \n",
      "\n",
      "Проверка перемножением: \n",
      " [[1. 0. 0.]\n",
      " [0. 1. 0.]\n",
      " [0. 0. 1.]] \n",
      "\n",
      "dim = 4:\n",
      "\n",
      "Собственные значения: \n",
      " 20.648042 -7.379422 -1.08029 -0.18833 \n",
      "\n",
      "Собственные векторы матрицы: \n",
      " [[ 0.358836 -0.369244  0.759253 -0.398033]\n",
      " [ 0.442903 -0.513194 -0.075537  0.731275]\n",
      " [ 0.448387 -0.29662  -0.642454 -0.546094]\n",
      " [ 0.688493  0.715757  0.071281  0.092675]] \n",
      "\n",
      "Собственные векторы транспонированной матрицы: \n",
      " [[ 0.358836 -0.369244  0.759253 -0.398033]\n",
      " [ 0.442903 -0.513194 -0.075537  0.731275]\n",
      " [ 0.448387 -0.29662  -0.642454 -0.546094]\n",
      " [ 0.688493  0.715757  0.071281  0.092675]] \n",
      "\n",
      "Проверка перемножением: \n",
      " [[1. 0. 0. 0.]\n",
      " [0. 1. 0. 0.]\n",
      " [0. 0. 1. 0.]\n",
      " [0. 0. 0. 1.]] \n",
      "\n"
     ]
    }
   ],
   "source": [
    "import numpy as np\n",
    "\n",
    "def eig(A):# Поступает квадратная матрица, собсвтвенные векторы и числа которой нужно определить\n",
    "    # Сначала находим собственые векторы и числа для матрицы 2x2. Для этого решаем характеристическое уравнение\n",
    "    lmbd1 = (A[0,0]+A[1,1]+((A[0,0]+A[1,1])**2-4*(A[1,1]*A[0,0]-A[0,1]*A[1,0]))**(1/2))/2\n",
    "    lmbd2 = (A[0,0]+A[1,1]-((A[0,0]+A[1,1])**2-4*(A[1,1]*A[0,0]-A[0,1]*A[1,0]))**(1/2))/2\n",
    "    \n",
    "    eigenvalues =  np.array([lmbd1, lmbd2])\n",
    "\n",
    "    x01 = 1/((1+A[0,1]*A[1,0]/(A[0,0]-lmbd1)**2))**(1/2)\n",
    "    x00 = -A[0,1]/(A[0,0]-lmbd1)*x01\n",
    "    x11 = 1/((1+A[0,1]*A[1,0]/(A[0,0]-lmbd2)**2))**(1/2)\n",
    "    x10 = -A[0,1]/(A[0,0]-lmbd2)*x11\n",
    "    X = np.array([[x00,x01],[x10,x11]])\n",
    "\n",
    "    xT01 = 1/((1+A[0,1]*A[1,0]/(A[0,0]-lmbd1)**2))**(1/2)\n",
    "    xT00 = -A[1,0]/(A[0,0]-lmbd1)*xT01\n",
    "    xT11 = 1/((1+A[0,1]*A[1,0]/(A[0,0]-lmbd2)**2))**(1/2)\n",
    "    xT10 = -A[1,0]/(A[0,0]-lmbd2)*xT11\n",
    "    XT = np.array([[xT00,xT01],[xT10,xT11]])\n",
    "    print('dim = 2:',\"\\n\")\n",
    "    print('Собственные значения:','\\n', *np.round(eigenvalues, 6), '\\n')     \n",
    "    print('Собственные векторы матрицы:','\\n',np.round(X.transpose(), 6),'\\n')\n",
    "    print('Собственные векторы транспонированной матрицы:','\\n',np.round(XT.transpose(), 6), '\\n')\n",
    "    print('Проверка перемножением:',\"\\n\",np.round(X.transpose().dot(XT), 3)+0,'\\n')\n",
    "    # Находим собственные значения и собсвтенные векторы матрицы больших размерностей.\n",
    "    for dim in range(3, len(A[0])+1):\n",
    "        PT = A[0:dim-1, dim-1].dot(XT.transpose())\n",
    "        P = A[dim-1, 0: dim-1].dot(X.transpose())\n",
    "        \n",
    "        M = P*PT\n",
    "       \n",
    "        poly = [0]*(dim+1)\n",
    "        poly[0] = np.array([-1, A[dim-1,dim-1]])\n",
    "\n",
    "        for r in range(1, dim):\n",
    "            poly[r] = np.array([-1, eigenvalues[r-1]])\n",
    "\n",
    "        from functools import reduce\n",
    "        poly[dim] = reduce(lambda x, y: np.polymul(x, y), poly[1: dim])\n",
    "        pd = reduce(lambda x, y: np.polymul(x, y), poly[0: dim])\n",
    "\n",
    "        poly1 = [0]*(dim)\n",
    "        poly1[0] = np.array(pd.copy())\n",
    "\n",
    "        for r in range(1, dim):\n",
    "            poly1[r] = np.polydiv(poly[dim], poly[r])[0]*(-M[r-1])\n",
    "\n",
    "        p = reduce(lambda x, y: np.polyadd(x, y), poly1)\n",
    "        eigenvalues_old = np.array(eigenvalues.copy())\n",
    "        eigenvalues = np.array(np.roots(p).copy())\n",
    "        \n",
    "        X_old = np.array(X.copy())\n",
    "        XT_old = np.array(XT.copy())\n",
    "        X = np.array([[0.]*dim]*dim)\n",
    "        XT= np.array([[0.]*dim]*dim)\n",
    "        \n",
    "        for i in range(dim):\n",
    "            f = 1 + sum(M/(eigenvalues_old-eigenvalues[i])**2)\n",
    "            if (f > 0):\n",
    "                X[i, dim-1] = 1/(f)**(1/2)\n",
    "                XT[i, dim-1] = 1/(f)**(1/2)\n",
    "            else:\n",
    "                X[i, dim-1] = 1/(-f)**(1/2)\n",
    "                XT[i, dim-1] = -1/(-f)**(1/2)\n",
    "            for j in range(dim-1):\n",
    "                X[i, j] = -sum(PT*X_old[0:, j]/(eigenvalues_old-eigenvalues[i]))*X[i, dim-1]\n",
    "                XT[i, j] = -sum(P*XT_old[0:, j]/(eigenvalues_old-eigenvalues[i]))*XT[i, dim-1]\n",
    "        print('dim = ',dim,':',\"\\n\", sep = '')\n",
    "        print('Собственные значения:','\\n', *np.round(eigenvalues, 6), '\\n')     \n",
    "        print('Собственные векторы матрицы:','\\n',np.round(X.transpose(), 6),'\\n')\n",
    "        print('Собственные векторы транспонированной матрицы:','\\n',np.round(XT.transpose(), 6), '\\n')\n",
    "        print('Проверка перемножением:','\\n',np.round(X.transpose().dot(XT), 6)+0,'\\n')\n",
    " \n",
    "    \n",
    "\n",
    "\n",
    "A = np.array([[1, 2, 3, 7], \n",
    "              [2, 2, 3, 9], \n",
    "              [3, 3, 3, 8],\n",
    "              [7, 9, 8, 6]])\n",
    "\n",
    "eig(A)"
   ]
  },
  {
   "cell_type": "code",
   "execution_count": 8,
   "metadata": {},
   "outputs": [
    {
     "data": {
      "text/plain": [
       "-31.0"
      ]
     },
     "execution_count": 8,
     "metadata": {},
     "output_type": "execute_result"
    }
   ],
   "source": [
    "np.linalg.det(A)\n",
    "    "
   ]
  },
  {
   "cell_type": "code",
   "execution_count": 9,
   "metadata": {
    "scrolled": true
   },
   "outputs": [
    {
     "data": {
      "text/plain": [
       "(array([20.64804209, -7.37942155, -1.08029032, -0.18833022]),\n",
       " array([[ 0.35883572,  0.36924385, -0.75925343,  0.39803283],\n",
       "        [ 0.44290286,  0.51319409,  0.07553696, -0.73127495],\n",
       "        [ 0.44838743,  0.29661958,  0.64245419,  0.54609354],\n",
       "        [ 0.68849306, -0.71575668, -0.07128127, -0.09267503]]))"
      ]
     },
     "execution_count": 9,
     "metadata": {},
     "output_type": "execute_result"
    }
   ],
   "source": [
    "np.linalg.eig(A)"
   ]
  },
  {
   "cell_type": "code",
   "execution_count": null,
   "metadata": {},
   "outputs": [],
   "source": []
  }
 ],
 "metadata": {
  "kernelspec": {
   "display_name": "Python 3",
   "language": "python",
   "name": "python3"
  },
  "language_info": {
   "codemirror_mode": {
    "name": "ipython",
    "version": 3
   },
   "file_extension": ".py",
   "mimetype": "text/x-python",
   "name": "python",
   "nbconvert_exporter": "python",
   "pygments_lexer": "ipython3",
   "version": "3.6.8"
  }
 },
 "nbformat": 4,
 "nbformat_minor": 2
}
